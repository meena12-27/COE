{
 "cells": [
  {
   "cell_type": "code",
   "execution_count": 5,
   "id": "f0d4db8b",
   "metadata": {},
   "outputs": [
    {
     "name": "stdout",
     "output_type": "stream",
     "text": [
      "-0.0\n"
     ]
    }
   ],
   "source": [
    "x=[1,2,3,4,5]\n",
    "y=[3,4,2,4,5]\n",
    "xbar=0\n",
    "xsum=0\n",
    "ysum=0\n",
    "for i in x:\n",
    "    xsum+=i\n",
    "for i in y:\n",
    "    ysum+=i\n",
    "xbar=xsum/len(x)\n",
    "ybar=ysum/len(y)\n",
    "m=0\n",
    "sumxx,sumxxsquare=0,0\n",
    "sumyy=0\n",
    "for n in x:\n",
    "    sumxx+=n-xbar\n",
    "    sumxxsquare+=(n-xbar)*(n-xbar)\n",
    "for n in y:\n",
    "    sumyy+=n-ybar\n",
    "m=(sumxx*sumyy)/sumxxsquare\n",
    "print(m)"
   ]
  },
  {
   "cell_type": "code",
   "execution_count": 6,
   "id": "b04ea3e4",
   "metadata": {},
   "outputs": [
    {
     "ename": "ValueError",
     "evalue": "too many values to unpack (expected 2)",
     "output_type": "error",
     "traceback": [
      "\u001b[1;31m---------------------------------------------------------------------------\u001b[0m",
      "\u001b[1;31mValueError\u001b[0m                                Traceback (most recent call last)",
      "Cell \u001b[1;32mIn[6], line 8\u001b[0m\n\u001b[0;32m      6\u001b[0m numerator\u001b[38;5;241m=\u001b[39m\u001b[38;5;241m0\u001b[39m\n\u001b[0;32m      7\u001b[0m denominator\u001b[38;5;241m=\u001b[39m\u001b[38;5;241m0\u001b[39m\n\u001b[1;32m----> 8\u001b[0m \u001b[38;5;28;01mfor\u001b[39;00m i,j \u001b[38;5;129;01min\u001b[39;00m x,y:\n\u001b[0;32m      9\u001b[0m     numerator\u001b[38;5;241m+\u001b[39m\u001b[38;5;241m=\u001b[39m(i\u001b[38;5;241m-\u001b[39mxbar)\u001b[38;5;241m*\u001b[39m(j\u001b[38;5;241m-\u001b[39mybar)\n\u001b[0;32m     10\u001b[0m     denominator\u001b[38;5;241m+\u001b[39m\u001b[38;5;241m=\u001b[39m(i\u001b[38;5;241m-\u001b[39mxbar)\u001b[38;5;241m*\u001b[39m(i\u001b[38;5;241m-\u001b[39mxbar)\n",
      "\u001b[1;31mValueError\u001b[0m: too many values to unpack (expected 2)"
     ]
    }
   ],
   "source": [
    "x=[1,2,3,4,5]\n",
    "y=[3,4,2,4,5]\n",
    "xbar=sum(x)/len(x)\n",
    "ybar=sum(y)/len(y)\n",
    "m=0\n",
    "numerator=0\n",
    "denominator=0\n",
    "for i,j in x,y:\n",
    "    numerator+=(i-xbar)*(j-ybar)\n",
    "    denominator+=(i-xbar)*(i-xbar)\n",
    "m=numerator/denominator"
   ]
  },
  {
   "cell_type": "code",
   "execution_count": 18,
   "id": "e451fb33",
   "metadata": {},
   "outputs": [
    {
     "name": "stdout",
     "output_type": "stream",
     "text": [
      "xbar= 3.0\n",
      "ybar= 3.6\n",
      "Slope=0.4\n",
      "c=2.4\n",
      "Linear equation(y=mx+c) is y=0.4x+2.4\n"
     ]
    }
   ],
   "source": [
    "x=[1,2,3,4,5]\n",
    "y=[3,4,2,4,5]\n",
    "xbar=sum(x)/len(x)\n",
    "print(\"xbar=\",xbar)\n",
    "ybar=sum(y)/len(y)\n",
    "print(\"ybar=\",ybar)\n",
    "m=0\n",
    "numerator=0\n",
    "denominator=0\n",
    "for i,j in zip(x,y):\n",
    "    numerator+=(i-xbar)*(j-ybar)\n",
    "    denominator+=(i-xbar)*(i-xbar)\n",
    "m=numerator/denominator\n",
    "print(f\"Slope={m}\")\n",
    "c=ybar-m*xbar\n",
    "print(f\"c={c}\")\n",
    "print(f\"Linear equation(y=mx+c) is y={m}x+{c}\")"
   ]
  },
  {
   "cell_type": "code",
   "execution_count": 21,
   "id": "a7b99359",
   "metadata": {},
   "outputs": [
    {
     "name": "stdout",
     "output_type": "stream",
     "text": [
      "[2.8, 3.2, 3.6, 4.0, 4.4]\n"
     ]
    }
   ],
   "source": [
    "ypred=[]\n",
    "for i in range(len(x)):\n",
    "    ypred.append(m*x[i]+c)\n",
    "print(ypred)"
   ]
  },
  {
   "cell_type": "code",
   "execution_count": 28,
   "id": "36dfdf19",
   "metadata": {},
   "outputs": [
    {
     "name": "stdout",
     "output_type": "stream",
     "text": [
      "r2=0.6923076923076922\n"
     ]
    }
   ],
   "source": [
    "r2=0\n",
    "numer,denom=0,0\n",
    "for n in ypred:\n",
    "    numer+=(n-ybar)**2\n",
    "for n in y:\n",
    "    denom+=(n-ybar)**2\n",
    "r2=1-(numer/denom)\n",
    "print(f\"r2={r2}\")"
   ]
  },
  {
   "cell_type": "code",
   "execution_count": null,
   "id": "4ae31f53",
   "metadata": {},
   "outputs": [],
   "source": []
  }
 ],
 "metadata": {
  "kernelspec": {
   "display_name": "Python 3 (ipykernel)",
   "language": "python",
   "name": "python3"
  },
  "language_info": {
   "codemirror_mode": {
    "name": "ipython",
    "version": 3
   },
   "file_extension": ".py",
   "mimetype": "text/x-python",
   "name": "python",
   "nbconvert_exporter": "python",
   "pygments_lexer": "ipython3",
   "version": "3.11.5"
  }
 },
 "nbformat": 4,
 "nbformat_minor": 5
}
