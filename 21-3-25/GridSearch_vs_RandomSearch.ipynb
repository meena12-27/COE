{
 "cells": [
  {
   "cell_type": "code",
   "execution_count": 1,
   "id": "59646141-0b88-4361-8534-276479df7c76",
   "metadata": {},
   "outputs": [],
   "source": [
    "import numpy as np\n",
    "import pandas as pd\n",
    "import matplotlib.pyplot as plt\n",
    "import seaborn as sns\n",
    "from sklearn.model_selection import train_test_split , GridSearchCV , RandomizedSearchCV\n",
    "from sklearn.ensemble import RandomForestClassifier\n",
    "from sklearn.metrics import accuracy_score , classification_report , confusion_matrix\n",
    "from sklearn.datasets import load_iris"
   ]
  },
  {
   "cell_type": "code",
   "execution_count": 2,
   "id": "f51d361c-c389-424b-9a41-bac83f12d56e",
   "metadata": {},
   "outputs": [],
   "source": [
    "df = load_iris()\n",
    "x = df.data\n",
    "y = df.target"
   ]
  },
  {
   "cell_type": "code",
   "execution_count": 3,
   "id": "d8ba3be0-062d-430f-9fff-d9d5e0fffd09",
   "metadata": {},
   "outputs": [],
   "source": [
    "# Hyperparameter Grid\n",
    "param_grid = {\n",
    "    'n_estimators':[10,50,100,200],\n",
    "    'max_depth' : [5,10,20,None],\n",
    "    'min_samples_split' : [2,5,10],\n",
    "    'min_samples_leaf' : [1,2,4]\n",
    "}\n"
   ]
  },
  {
   "cell_type": "code",
   "execution_count": 4,
   "id": "3ca6d561-6c7b-4630-81ae-7451fe2270a7",
   "metadata": {},
   "outputs": [],
   "source": [
    "X_train,X_test , y_train,y_test = train_test_split(x,y,test_size=0.2,random_state=42)"
   ]
  },
  {
   "cell_type": "code",
   "execution_count": 5,
   "id": "9518f6a6-dfda-4370-b7b8-c8470036910c",
   "metadata": {},
   "outputs": [
    {
     "name": "stdout",
     "output_type": "stream",
     "text": [
      "Fitting 5 folds for each of 144 candidates, totalling 720 fits\n"
     ]
    },
    {
     "name": "stderr",
     "output_type": "stream",
     "text": [
      "c:\\Users\\harini reddy\\anaconda3\\Lib\\site-packages\\numpy\\ma\\core.py:2820: RuntimeWarning: invalid value encountered in cast\n",
      "  _data = np.array(data, dtype=dtype, copy=copy,\n"
     ]
    },
    {
     "name": "stdout",
     "output_type": "stream",
     "text": [
      "Params from grid search: {'max_depth': 5, 'min_samples_leaf': 4, 'min_samples_split': 2, 'n_estimators': 200}\n"
     ]
    }
   ],
   "source": [
    "#apply grid search\n",
    "grid_search = GridSearchCV(RandomForestClassifier(),param_grid,cv=5,n_jobs=-1,verbose=1)\n",
    "grid_search.fit(X_train,y_train)\n",
    "print('Params from grid search:',grid_search.best_params_)"
   ]
  },
  {
   "cell_type": "code",
   "execution_count": 6,
   "id": "85d47a84-14ba-424c-9344-d25267503f89",
   "metadata": {},
   "outputs": [
    {
     "name": "stdout",
     "output_type": "stream",
     "text": [
      "Fitting 5 folds for each of 10 candidates, totalling 50 fits\n",
      "Parameters from Random Search {'n_estimators': 50, 'min_samples_split': 10, 'min_samples_leaf': 1, 'max_depth': None}\n"
     ]
    }
   ],
   "source": [
    "#randomized search cv\n",
    "random_search = RandomizedSearchCV(RandomForestClassifier(),param_grid,n_iter=10,cv=5,n_jobs=-1,verbose=1,random_state=42)\n",
    "random_search.fit(X_train,y_train)\n",
    "print('Parameters from Random Search',random_search.best_params_)"
   ]
  },
  {
   "cell_type": "code",
   "execution_count": 7,
   "id": "a5d1a091-841d-462a-b01e-b60cb3c8247d",
   "metadata": {},
   "outputs": [
    {
     "name": "stdout",
     "output_type": "stream",
     "text": [
      "Grid Search Accuracy: 1.00\n",
      "Random Search Accuracy: 1.00\n"
     ]
    }
   ],
   "source": [
    "#evaluate model performance\n",
    "best_grid_model = grid_search.best_estimator_\n",
    "best_random_model = random_search.best_estimator_\n",
    "#predictions\n",
    "y_pred_grid = best_grid_model.predict(X_test)\n",
    "y_pred_random = best_random_model.predict(X_test)\n",
    "#accuracy\n",
    "acc_grid = accuracy_score(y_test,y_pred_grid)\n",
    "acc_random = accuracy_score(y_test , y_pred_random)\n",
    "print(f'Grid Search Accuracy: {acc_grid:.2f}')\n",
    "print(f'Random Search Accuracy: {acc_random:.2f}')"
   ]
  },
  {
   "cell_type": "markdown",
   "id": "c778c58b",
   "metadata": {},
   "source": [
    "***SVM finds the best possible boundary (called a hyperplane) that maximizes the margin between the two classes***\n",
    "\n",
    "Hyperplane is defined as an n-1 dimensional euclidean space that seperated as n-dimensional euclidean\n",
    "\n",
    "1.Maximum Margin Classifier\n",
    "\n",
    "2.Support Vector Classifier\n",
    "\n",
    "3.Support vector machines\n",
    "\n",
    "How do you know where to draw hyperplane?\n",
    "\n",
    "draw a random hyperplane and then you check the distance between the hyperplane and the closest data points from each class"
   ]
  },
  {
   "cell_type": "markdown",
   "id": "7cb84c98",
   "metadata": {},
   "source": []
  },
  {
   "cell_type": "markdown",
   "id": "141d34de",
   "metadata": {},
   "source": []
  },
  {
   "cell_type": "markdown",
   "id": "16bfd51b",
   "metadata": {},
   "source": []
  },
  {
   "cell_type": "code",
   "execution_count": null,
   "id": "3b879c7e",
   "metadata": {},
   "outputs": [],
   "source": []
  }
 ],
 "metadata": {
  "kernelspec": {
   "display_name": "base",
   "language": "python",
   "name": "python3"
  },
  "language_info": {
   "codemirror_mode": {
    "name": "ipython",
    "version": 3
   },
   "file_extension": ".py",
   "mimetype": "text/x-python",
   "name": "python",
   "nbconvert_exporter": "python",
   "pygments_lexer": "ipython3",
   "version": "3.12.3"
  }
 },
 "nbformat": 4,
 "nbformat_minor": 5
}
